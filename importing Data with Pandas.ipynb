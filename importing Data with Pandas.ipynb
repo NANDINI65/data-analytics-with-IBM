{
 "cells": [
  {
   "cell_type": "code",
   "execution_count": 4,
   "id": "95fd0205",
   "metadata": {},
   "outputs": [
    {
     "data": {
      "text/plain": [
       "(7, 1)"
      ]
     },
     "execution_count": 4,
     "metadata": {},
     "output_type": "execute_result"
    }
   ],
   "source": [
    "# Import the pandas library, renamed as pd\n",
    "import pandas as pd\n",
    "  \n",
    "# Read IND_data.csv into a DataFrame, assigned to df\n",
    "df = pd.read_csv(\"sample.text\")\n",
    "  \n",
    "# Prints the first 5 rows of a DataFrame as default\n",
    "df.head()\n",
    "  \n",
    "# Prints no. of rows and columns of a DataFrame\n",
    "df.shape\n"
   ]
  },
  {
   "cell_type": "code",
   "execution_count": null,
   "id": "0a2ec621",
   "metadata": {},
   "outputs": [],
   "source": []
  }
 ],
 "metadata": {
  "kernelspec": {
   "display_name": "Python 3",
   "language": "python",
   "name": "python3"
  },
  "language_info": {
   "codemirror_mode": {
    "name": "ipython",
    "version": 3
   },
   "file_extension": ".py",
   "mimetype": "text/x-python",
   "name": "python",
   "nbconvert_exporter": "python",
   "pygments_lexer": "ipython3",
   "version": "3.7.5"
  }
 },
 "nbformat": 4,
 "nbformat_minor": 5
}
